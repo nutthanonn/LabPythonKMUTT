{
 "cells": [
  {
   "cell_type": "code",
   "execution_count": 5,
   "metadata": {},
   "outputs": [
    {
     "name": "stdout",
     "output_type": "stream",
     "text": [
      "x = -4.00, y = 0.00\n",
      "x = -3.00, y = 0.00\n",
      "x = -2.00, y = 0.00\n",
      "x = -1.00, y = 0.00\n",
      "x = 0.00, y = 0.00\n",
      "x = 1.00, y = 0.50\n",
      "x = 2.00, y = 1.00\n",
      "x = 3.00, y = 1.50\n",
      "x = 4.00, y = 2.00\n"
     ]
    },
    {
     "data": {
      "image/png": "[encoded data removed]",
      "text/plain": [
       "<Figure size 432x288 with 1 Axes>"
      ]
     },
     "metadata": {
      "needs_background": "light"
     },
     "output_type": "display_data"
    }
   ],
   "source": [
    "import numpy as np\n",
    "import matplotlib.pyplot as plt\n",
    "\n",
    "def QuadraticSpline(x, xi, yi):\n",
    "    # Quadratic Spline.\n",
    "    nx = len(xi)\n",
    "    ny = len(yi)\n",
    "    assert nx == ny\n",
    "    assert sorted(xi) == list(xi)\n",
    "\n",
    "    z = []\n",
    "    q = []\n",
    "\n",
    "    z.append(0)\n",
    "\n",
    "    for i in range(1, nx):\n",
    "        z.append(-z[i-1] + 2 * (yi[i] - yi[i-1]) / (xi[i] - xi[i-1]))\n",
    "\n",
    "    assert len(z) == nx\n",
    "\n",
    "    eq_list = []\n",
    "    ans = 0\n",
    "\n",
    "    for i in range(nx - 1):\n",
    "        a = 0.5 * (z[i+1] - z[i]) / (xi[i+1] - xi[i])\n",
    "        b = -2 * a * xi[i] + z[i]\n",
    "        c = a*xi[i]**2 - z[i] * xi[i] + yi[i]\n",
    "        eq_list.append((a, b, c))\n",
    "\n",
    "    for i in range(nx - 1):\n",
    "        if xi[i] <= x <= xi[i+1]:\n",
    "            ans = eq_list[i][0] * (x-xi[i])**2 + z[i]*(x-xi[i]) + yi[i]\n",
    "            break\n",
    "    return ans\n",
    "\n",
    "\n",
    "def main():\n",
    "    xi = [0, 1, 2, 3, 4, 5, 6]\n",
    "    yi = [0, 0.5, 1, 1.5, 2, 2.5, 3]\n",
    "\n",
    "    x = list(range(-4, 5))\n",
    "    y = [QuadraticSpline(i, xi, yi) for i in x]\n",
    "    for i in range(len(y)):\n",
    "        print(f\"x = {x[i]:.2f}, y = {y[i]:.2f}\")\n",
    "    \n",
    "    plt.plot(x, y)\n",
    "    plt.show()\n",
    "\n",
    "main()"
   ]
  }
 ],
 "metadata": {
  "kernelspec": {
   "display_name": "Python 3.9.5 64-bit",
   "language": "python",
   "name": "python3"
  },
  "language_info": {
   "codemirror_mode": {
    "name": "ipython",
    "version": 3
   },
   "file_extension": ".py",
   "mimetype": "text/x-python",
   "name": "python",
   "nbconvert_exporter": "python",
   "pygments_lexer": "ipython3",
   "version": "3.9.5"
  },
  "orig_nbformat": 4,
  "vscode": {
   "interpreter": {
    "hash": "aee8b7b246df8f9039afb4144a1f6fd8d2ca17a180786b69acc140d282b71a49"
   }
  }
 },
 "nbformat": 4,
 "nbformat_minor": 2
}

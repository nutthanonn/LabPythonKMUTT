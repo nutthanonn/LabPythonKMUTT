{
 "cells": [
  {
   "cell_type": "code",
   "execution_count": 5,
   "id": "1e89eb56",
   "metadata": {},
   "outputs": [],
   "source": [
    "def Euler(tstart,xstart,tstop,total_steps,f_tx):\n",
    "    x = xstart\n",
    "    t = tstart\n",
    "    h= (tstop - tstart)/total_steps\n",
    "\n",
    "    t_array = []\n",
    "    x_array = []\n",
    "    x_array.append(x)\n",
    "    t_array.append(t)\n",
    "    for i in range(total_steps):\n",
    "        x += h* f_tx(t,x)\n",
    "        t += h\n",
    "        x_array.append(x)\n",
    "        t_array.append(t)\n",
    "\n",
    "    # for i in range(len(x_array)):\n",
    "    #     print(f\"x{i} = {x_arrapoewqy[i]}\")\n",
    "    return x_array,t_array,x\n"
   ]
  },
  {
   "cell_type": "code",
   "execution_count": 6,
   "id": "f9d02008",
   "metadata": {},
   "outputs": [
    {
     "name": "stdout",
     "output_type": "stream",
     "text": [
      "x2=4.235863694432819\n"
     ]
    }
   ],
   "source": [
    "f_tx = lambda t,x: 1+x**2+t**3\n",
    "tstart = 1\n",
    "tstop = 2\n",
    "xstart = -4 # x ตัวแรก\n",
    "\n",
    "totalsteps = 100\n",
    "x_array,t_array,xstop = Euler(tstart,xstart,tstop,totalsteps,f_tx)\n",
    "\n",
    "print('x{}={}'.format(tstop,xstop))\n"
   ]
  },
  {
   "cell_type": "code",
   "execution_count": 7,
   "id": "0ff343a7",
   "metadata": {},
   "outputs": [
    {
     "name": "stdout",
     "output_type": "stream",
     "text": [
      "x2=7.244646118252337\n"
     ]
    }
   ],
   "source": [
    "f_tx = lambda t,x: x\n",
    "tstart = 0\n",
    "tstop = 2\n",
    "xstart = 1\n",
    "totalsteps = 100\n",
    "x_array,t_array,xstop = Euler(tstart,xstart,tstop,totalsteps,f_tx)\n",
    "print('x{}={}'.format(tstop,xstop))\n"
   ]
  },
  {
   "cell_type": "code",
   "execution_count": 8,
   "id": "42681df0",
   "metadata": {},
   "outputs": [
    {
     "data": {
      "image/png": "[encoded data removed]",
      "text/plain": [
       "<Figure size 432x288 with 1 Axes>"
      ]
     },
     "metadata": {
      "needs_background": "light"
     },
     "output_type": "display_data"
    }
   ],
   "source": [
    "import matplotlib.pyplot as plt\n",
    "import numpy as np\n",
    "\n",
    "exact_x = np.exp(t_array,dtype=np.float64)\n",
    "xp = np.array(x_array)\n",
    "tp = np.array(t_array)\n",
    "plt.plot(tp, xp, 'bo')\n",
    "plt.plot(tp, exact_x, 'red')\n",
    "plt.show()"
   ]
  }
 ],
 "metadata": {
  "kernelspec": {
   "display_name": "Python 3.9.5 64-bit",
   "language": "python",
   "name": "python3"
  },
  "language_info": {
   "codemirror_mode": {
    "name": "ipython",
    "version": 3
   },
   "file_extension": ".py",
   "mimetype": "text/x-python",
   "name": "python",
   "nbconvert_exporter": "python",
   "pygments_lexer": "ipython3",
   "version": "3.9.5"
  },
  "vscode": {
   "interpreter": {
    "hash": "aee8b7b246df8f9039afb4144a1f6fd8d2ca17a180786b69acc140d282b71a49"
   }
  }
 },
 "nbformat": 4,
 "nbformat_minor": 5
}

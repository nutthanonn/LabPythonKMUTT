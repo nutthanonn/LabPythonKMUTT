{
 "cells": [
  {
   "cell_type": "code",
   "execution_count": 1,
   "id": "a690eba7",
   "metadata": {},
   "outputs": [],
   "source": [
    "def RK2(tstart,xstart,tstop,total_steps,f_tx):\n",
    "    x = xstart\n",
    "    t = tstart\n",
    "    h= (tstop - tstart)/total_steps\n",
    "\n",
    "    t_array = []\n",
    "    x_array = []\n",
    "    x_prime1_array = []\n",
    "    x_array.append(x)\n",
    "    t_array.append(t)\n",
    "    x_prime1_array.append(f_tx(t,x))\n",
    "    for i in range(total_steps):\n",
    "        k1 = h*f_tx(t,x)\n",
    "        k2 = h*f_tx(t+h, x+k1)\n",
    "        x += (k1+k2)/2\n",
    "        t = tstart + (i+1)*h\n",
    "        x_array.append(x)\n",
    "        t_array.append(t)\n",
    "        x_prime1_array.append(f_tx(t,x))\n",
    "    return x_array,x_prime1_array,t_array, x"
   ]
  },
  {
   "cell_type": "code",
   "execution_count": 2,
   "id": "cb8d7394",
   "metadata": {},
   "outputs": [
    {
     "name": "stdout",
     "output_type": "stream",
     "text": [
      "3.1929385640256536\n"
     ]
    }
   ],
   "source": [
    "f_tx1_ = lambda t,x: 2+(x-t-1)**2\n",
    "xstart = 2\n",
    "tstart = 1\n",
    "tstop = 1.5625\n",
    "totalsteps = 172\n",
    "x_array,x_prime1_array,t_array, xstop = RK2(tstart,xstart,tstop,totalsteps,f_tx1_)\n",
    "print(xstop)"
   ]
  },
  {
   "cell_type": "code",
   "execution_count": 3,
   "id": "9025ee52",
   "metadata": {},
   "outputs": [],
   "source": [
    "def RK4(tstart,xstart,tstop,total_steps,f_tx):\n",
    "    x = xstart\n",
    "    t = tstart\n",
    "    h= (tstop - tstart)/total_steps\n",
    "    print('h',h)\n",
    "    t_array = []\n",
    "    x_array = []\n",
    "    x_prime1_array = []\n",
    "    for i in range(total_steps):\n",
    "        k1 = h*f_tx(t,x)\n",
    "        k2 = h*f_tx(t+0.5*h, x+0.5*k1)\n",
    "        k3 = h*f_tx(t+0.5*h, x+0.5*k2)\n",
    "        k4 = h*f_tx(t+h, x+k3)\n",
    "        x_array.append(x)\n",
    "        t_array.append(t)\n",
    "        x_prime1_array.append(f_tx(t,x))\n",
    "        x += (k1+2*k2+2*k3+k4)/6\n",
    "        t = tstart + (i+1)*h\n",
    "    return x_array,x_prime1_array,t_array, x"
   ]
  },
  {
   "cell_type": "code",
   "execution_count": 4,
   "id": "23c79042",
   "metadata": {},
   "outputs": [
    {
     "name": "stdout",
     "output_type": "stream",
     "text": [
      "h 0.0078125\n",
      "3.192937673837072\n"
     ]
    }
   ],
   "source": [
    "f_tx2= lambda t,x: 2+(x-t-1)**2\n",
    "xstart = 2\n",
    "tstart = 1\n",
    "tstop = 1.5625\n",
    "totalsteps =72\n",
    "x_array,x_prime1_array,t_array, xstop = RK4(tstart,xstart,tstop,totalsteps,f_tx2)\n",
    "print(xstop)"
   ]
  },
  {
   "cell_type": "markdown",
   "id": "a45821b6",
   "metadata": {},
   "source": [
    "f_tx1 = lambda t,x: x + x**2\n",
    "K1 = lambda t,x,h : h*f_tx1(t,x)\n",
    "K2 = lambda t,x,h : h*f_tx1(t+0.5*h, x+0.5* K1(t,x,h))\n",
    "K3 = lambda t,x,h : h*f_tx1(t+0.5*h, x+0.5* K2(t,x,h))\n",
    "K4 = lambda t,x,h : h*f_tx1(t+h, x+K3(t,x,h))\n",
    "\n",
    "\n",
    "\n",
    "\n",
    "x = 0.20466341728915526943\n",
    "a = 1\n",
    "b = 2.77\n",
    "t = a\n",
    "h= 0.01\n",
    "total_steps = int((b - a)/h)\n",
    "x_array = []\n",
    "t_array = []\n",
    "x_prime1_array = []\n",
    "\n",
    "for i in range(total_steps):\n",
    "\n",
    "    k1 = K1(t,x,h)\n",
    "    k2 = K2(t,x,h)\n",
    "    k3 = K3(t,x,h)\n",
    "    k4 = K4(t,x,h)\n",
    "    x_array.append(x)\n",
    "    t_array.append(t)\n",
    "    x_prime1_array.append(f_tx1(t,x))\n",
    "    x += (k1+2*k2+2*k3+k4)/6\n",
    "    t += h\n",
    "\n",
    "\n",
    "    print(i,t,x)\n",
    "\n",
    "print(t,x)\n",
    "\n"
   ]
  },
  {
   "cell_type": "markdown",
   "id": "2b4b8fd6",
   "metadata": {},
   "source": [
    "import math\n",
    "f_tx1_ = lambda t,x:-2*x+ math.exp(-2*t)*t**3\n",
    "xstart = 1\n",
    "tstart = 0\n",
    "print(f_tx1_(0,1))\n",
    "print(f_tx1_(0.05,0.9))\n",
    "tstop = 0.2\n",
    "totalsteps = 2\n",
    "x_array,x_prime1_array,t_array, xstop = RK4(tstart,xstart,tstop,totalsteps,f_tx1_)\n",
    "print(xstop)"
   ]
  },
  {
   "cell_type": "code",
   "execution_count": null,
   "id": "f81520db",
   "metadata": {},
   "outputs": [],
   "source": []
  },
  {
   "cell_type": "code",
   "execution_count": 5,
   "id": "5ca7e194",
   "metadata": {},
   "outputs": [
    {
     "data": {
      "image/png": "[encoded data removed]",
      "text/plain": [
       "<Figure size 432x288 with 1 Axes>"
      ]
     },
     "metadata": {
      "needs_background": "light"
     },
     "output_type": "display_data"
    }
   ],
   "source": [
    "import matplotlib.pyplot as plt\n",
    "import numpy as np\n",
    "x = np.array(x_array)\n",
    "t = np.array(t_array)\n",
    "x_prime = np.array(x_prime1_array)\n",
    "\n",
    "exact_x = 1 + t + np.tan(t-1)\n",
    "#et = np.exp(t,dtype=np.float64)\n",
    "#et_minus_16_negative = 16-et\n",
    "#e2t =  np.exp(2*t,dtype=np.float64)\n",
    "#exact_x = np.divide(et,et_minus_16_negative)\n",
    "plt.plot(t, x, 'bo')\n",
    "plt.plot(t, exact_x, 'red')\n",
    "plt.show()"
   ]
  }
 ],
 "metadata": {
  "kernelspec": {
   "display_name": "Python 3.9.5 64-bit",
   "language": "python",
   "name": "python3"
  },
  "language_info": {
   "codemirror_mode": {
    "name": "ipython",
    "version": 3
   },
   "file_extension": ".py",
   "mimetype": "text/x-python",
   "name": "python",
   "nbconvert_exporter": "python",
   "pygments_lexer": "ipython3",
   "version": "3.9.5"
  },
  "vscode": {
   "interpreter": {
    "hash": "aee8b7b246df8f9039afb4144a1f6fd8d2ca17a180786b69acc140d282b71a49"
   }
  }
 },
 "nbformat": 4,
 "nbformat_minor": 5
}

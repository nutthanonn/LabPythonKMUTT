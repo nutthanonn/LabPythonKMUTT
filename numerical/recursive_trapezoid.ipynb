{
 "cells": [
  {
   "cell_type": "code",
   "execution_count": null,
   "metadata": {},
   "outputs": [],
   "source": [
    "def recursive_trapezoid(f, a=0, b=1, n=60):\n",
    "    if n == 0:\n",
    "        return (b-a)*(f(a)+f(b))/2\n",
    "    else:\n",
    "        h = (b-a)/(2**n)\n",
    "        return 1/2*recursive_trapezoid(f, a, b, n-1) + h*sum(f(a+i*h) for i in range(1, 2**n, 2))"
   ]
  }
 ],
 "metadata": {
  "kernelspec": {
   "display_name": "Python 3.9.5 64-bit",
   "language": "python",
   "name": "python3"
  },
  "language_info": {
   "name": "python",
   "version": "3.9.5"
  },
  "orig_nbformat": 4,
  "vscode": {
   "interpreter": {
    "hash": "aee8b7b246df8f9039afb4144a1f6fd8d2ca17a180786b69acc140d282b71a49"
   }
  }
 },
 "nbformat": 4,
 "nbformat_minor": 2
}

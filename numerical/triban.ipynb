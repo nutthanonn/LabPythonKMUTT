{
 "cells": [
  {
   "cell_type": "code",
   "execution_count": 1,
   "metadata": {},
   "outputs": [
    {
     "name": "stdout",
     "output_type": "stream",
     "text": [
      "True\n",
      "True\n"
     ]
    }
   ],
   "source": [
    "\"\"\"\n",
    "64090500431\n",
    "\"\"\"\n",
    "\n",
    "import numpy as np\n",
    "\n",
    "\n",
    "def triband(a, d, c, b):\n",
    "    n = len(d)\n",
    "    assert len(a) == len(c) == n-1\n",
    "    assert len(b) == n\n",
    "\n",
    "    x = np.zeros_like(b)\n",
    "\n",
    "    # Your code here\n",
    "    for i in range(1, n):\n",
    "        factor = a[i-1]/d[i-1]\n",
    "        d[i] = d[i] - factor*c[i-1]\n",
    "        b[i] = b[i] - factor*b[i-1]\n",
    "    x[n-1] = b[n-1]/d[n-1]\n",
    "    for i in range(n-2, -1, -1):\n",
    "        x[i] = (b[i] - c[i]*x[i+1])/d[i]\n",
    "    # End your code\n",
    "\n",
    "    return x\n",
    "\n",
    "\n",
    "def Problem3(a, d, c, b):\n",
    "    return triband(a, d, c, b)\n",
    "\n",
    "\n",
    "def test_1():\n",
    "    d = np.ones((4,), dtype=np.float64)\n",
    "    a = 0.5*np.ones((3,), dtype=np.float64)\n",
    "    c = 0.5*np.ones((3,), dtype=np.float64)\n",
    "    b = np.array([1.5, 2, 2, 1.5], dtype=np.float64)\n",
    "    x = Problem3(a, d, c, b)\n",
    "    return (np.absolute(x - np.array([1.,  1., 1.,  1.])) < 1e-5).all()\n",
    "\n",
    "\n",
    "def test_2():\n",
    "    d = np.ones((100,), dtype=np.float64)\n",
    "    a = 0.5*np.ones((99,), dtype=np.float64)\n",
    "    c = 0.5*np.ones((99,), dtype=np.float64)\n",
    "    b = np.array(\n",
    "        [1.5 if i == 0 or i == 99 else 2.0 for i in range(100)], dtype=np.float64)\n",
    "    x = Problem3(a, d, c, b)\n",
    "    return (np.absolute(x - np.ones((100,), dtype=np.float64)) < 1e-5).all()\n",
    "\n",
    "\n",
    "print(test_1())\n",
    "print(test_2())"
   ]
  }
 ],
 "metadata": {
  "kernelspec": {
   "display_name": "Python 3.9.5 64-bit",
   "language": "python",
   "name": "python3"
  },
  "language_info": {
   "codemirror_mode": {
    "name": "ipython",
    "version": 3
   },
   "file_extension": ".py",
   "mimetype": "text/x-python",
   "name": "python",
   "nbconvert_exporter": "python",
   "pygments_lexer": "ipython3",
   "version": "3.9.5"
  },
  "orig_nbformat": 4,
  "vscode": {
   "interpreter": {
    "hash": "aee8b7b246df8f9039afb4144a1f6fd8d2ca17a180786b69acc140d282b71a49"
   }
  }
 },
 "nbformat": 4,
 "nbformat_minor": 2
}

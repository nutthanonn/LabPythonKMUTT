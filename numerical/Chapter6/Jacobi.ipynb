{
 "cells": [
  {
   "cell_type": "code",
   "execution_count": 4,
   "metadata": {},
   "outputs": [
    {
     "name": "stdout",
     "output_type": "stream",
     "text": [
      "x = [ 1.  2. -1.  1.]\n"
     ]
    }
   ],
   "source": [
    "import numpy as np\n",
    "\n",
    "def Jacobi(A, b, kmax):\n",
    "    n, = b.shape\n",
    "    x = np.zeros_like(b)\n",
    "\n",
    "\n",
    "    for _ in range(kmax):\n",
    "        for i in range(n):\n",
    "            x[i] = (b[i] - sum(A[i, j]*x[j]\n",
    "                    for j in range(n) if j != i))/A[i, i]\n",
    "\n",
    "    return x\n",
    "\n",
    "A = np.array([[10., -1., 2., 0.],\n",
    "                [-1., 11., -1., 3.],\n",
    "                [2., -1., 10., -1.],\n",
    "                [0., 3., -1., 8.]])\n",
    "\n",
    "b = np.array([6., 25., -11., 15.])\n",
    "maxiter = 1000\n",
    "x = Jacobi(A, b, maxiter)\n",
    "print('x =', x)\n"
   ]
  }
 ],
 "metadata": {
  "kernelspec": {
   "display_name": "Python 3.9.5 64-bit",
   "language": "python",
   "name": "python3"
  },
  "language_info": {
   "codemirror_mode": {
    "name": "ipython",
    "version": 3
   },
   "file_extension": ".py",
   "mimetype": "text/x-python",
   "name": "python",
   "nbconvert_exporter": "python",
   "pygments_lexer": "ipython3",
   "version": "3.9.5"
  },
  "orig_nbformat": 4,
  "vscode": {
   "interpreter": {
    "hash": "aee8b7b246df8f9039afb4144a1f6fd8d2ca17a180786b69acc140d282b71a49"
   }
  }
 },
 "nbformat": 4,
 "nbformat_minor": 2
}

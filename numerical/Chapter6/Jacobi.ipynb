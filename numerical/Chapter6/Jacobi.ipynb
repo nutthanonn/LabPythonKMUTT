{
 "cells": [
  {
   "cell_type": "code",
   "execution_count": 12,
   "metadata": {},
   "outputs": [
    {
     "name": "stdout",
     "output_type": "stream",
     "text": [
      "Round 1: [ 0.5         2.83333333 -1.08333333]\n",
      "Round 2: [ 1.91666667  2.94444444 -1.02777778]\n",
      "Round 3: [ 1.97222222  2.98148148 -1.00925926]\n",
      "Round 4: [ 1.99074074  2.99382716 -1.00308642]\n",
      "Round 5: [ 1.99691358  2.99794239 -1.00102881]\n",
      "Round 6: [ 1.99897119  2.99931413 -1.00034294]\n",
      "Round 7: [ 1.99965706  2.99977138 -1.00011431]\n",
      "Round 8: [ 1.99988569  2.99992379 -1.0000381 ]\n",
      "Round 9: [ 1.9999619  2.9999746 -1.0000127]\n",
      "Round 10: [ 1.9999873   2.99999153 -1.00000423]\n",
      "Round 11: [ 1.99999577  2.99999718 -1.00000141]\n",
      "Round 12: [ 1.99999859  2.99999906 -1.00000047]\n",
      "Round 13: [ 1.99999953  2.99999969 -1.00000016]\n",
      "Round 14: [ 1.99999984  2.9999999  -1.00000005]\n",
      "Round 15: [ 1.99999995  2.99999997 -1.00000002]\n",
      "Round 16: [ 1.99999998  2.99999999 -1.00000001]\n",
      "Round 17: [ 1.99999999  3.         -1.        ]\n",
      "Round 18: [ 2.  3. -1.]\n",
      "Round 19: [ 2.  3. -1.]\n",
      "Round 20: [ 2.  3. -1.]\n",
      "x = [ 2.  3. -1.]\n"
     ]
    }
   ],
   "source": [
    "import numpy as np\n",
    "\n",
    "def Jacobi(A, b, kmax):\n",
    "    n, = b.shape\n",
    "    x = np.zeros_like(b, dtype=np.float64)\n",
    "\n",
    "\n",
    "    for r in range(kmax):\n",
    "        for i in range(n):\n",
    "            x[i] = (b[i] - sum(A[i, j]*x[j]\n",
    "                    for j in range(n) if j != i))/A[i, i]\n",
    "        print(f\"Round {r+1}: {x}\")\n",
    "    return x\n",
    "\n",
    "A = np.array([\n",
    "                [2, -1, 0],\n",
    "                [-1, 3, -1],\n",
    "                [0, -1., 2],\n",
    "            ])\n",
    "\n",
    "b = np.array([1, 8, -5])\n",
    "maxiter = 20\n",
    "x = Jacobi(A, b, maxiter)\n",
    "print('x =', x)"
   ]
  }
 ],
 "metadata": {
  "kernelspec": {
   "display_name": "Python 3.9.5 64-bit",
   "language": "python",
   "name": "python3"
  },
  "language_info": {
   "codemirror_mode": {
    "name": "ipython",
    "version": 3
   },
   "file_extension": ".py",
   "mimetype": "text/x-python",
   "name": "python",
   "nbconvert_exporter": "python",
   "pygments_lexer": "ipython3",
   "version": "3.9.5"
  },
  "orig_nbformat": 4,
  "vscode": {
   "interpreter": {
    "hash": "aee8b7b246df8f9039afb4144a1f6fd8d2ca17a180786b69acc140d282b71a49"
   }
  }
 },
 "nbformat": 4,
 "nbformat_minor": 2
}

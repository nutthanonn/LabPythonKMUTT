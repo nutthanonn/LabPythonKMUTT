{
 "cells": [
  {
   "cell_type": "code",
   "execution_count": 1,
   "metadata": {},
   "outputs": [
    {
     "name": "stdout",
     "output_type": "stream",
     "text": [
      "[[  6.  -2.   2.   4.]\n",
      " [  0.  -4.   2.   2.]\n",
      " [  3. -13.   9.   3.]\n",
      " [ -6.   4.   1. -18.]] [ 16.  -6. -19. -34.]\n",
      "----------------------------\n",
      "[[  6.  -2.   2.   4.]\n",
      " [  0.  -4.   2.   2.]\n",
      " [  0. -12.   8.   1.]\n",
      " [ -6.   4.   1. -18.]] [ 16.  -6. -27. -34.]\n",
      "----------------------------\n",
      "[[  6.  -2.   2.   4.]\n",
      " [  0.  -4.   2.   2.]\n",
      " [  0. -12.   8.   1.]\n",
      " [  0.   2.   3. -14.]] [ 16.  -6. -27. -18.]\n",
      "----------------------------\n",
      "[[  6.  -2.   2.   4.]\n",
      " [  0.  -4.   2.   2.]\n",
      " [  0.   0.   2.  -5.]\n",
      " [  0.   2.   3. -14.]] [ 16.  -6.  -9. -18.]\n",
      "----------------------------\n",
      "[[  6.  -2.   2.   4.]\n",
      " [  0.  -4.   2.   2.]\n",
      " [  0.   0.   2.  -5.]\n",
      " [  0.   0.   4. -13.]] [ 16.  -6.  -9. -21.]\n",
      "----------------------------\n",
      "[[ 6. -2.  2.  4.]\n",
      " [ 0. -4.  2.  2.]\n",
      " [ 0.  0.  2. -5.]\n",
      " [ 0.  0.  0. -3.]] [16. -6. -9. -3.]\n",
      "----------------------------\n",
      "[ 3.  1. -2.  1.]\n"
     ]
    }
   ],
   "source": [
    "import numpy as np\n",
    "\n",
    "def BasicGaussianElimination(A, b):\n",
    "    n = len(b)\n",
    "    for k in range(n-1):\n",
    "        for i in range(k+1, n):\n",
    "            if A[i, k] != 0.0:\n",
    "                lam = A[i, k]/A[k, k]\n",
    "                A[i, k+1:n] = A[i, k+1:n] - lam*A[k, k+1:n]\n",
    "                b[i] = b[i] - lam*b[k]\n",
    "    return A, b\n",
    "\n",
    "def GaussianSwapForwardElimination(A, b):\n",
    "    m, n = A.shape\n",
    "    bn, = b.shape\n",
    "    assert n == m == bn\n",
    "    Aans = A.copy()\n",
    "    bans = b.copy()\n",
    "    l = list(range(n))\n",
    "    sl = np.abs(A).max(axis=1)\n",
    "\n",
    "    for k in range(n):\n",
    "        for i in range(k+1, n):\n",
    "            factor = Aans[i, k]/Aans[k, k]\n",
    "            for j in range(k, n):\n",
    "                Aans[i, j] = Aans[i, j] - factor*Aans[k, j]\n",
    "            bans[i] = bans[i] - factor*bans[k]\n",
    "            print(Aans, bans)\n",
    "            print(\"----------------------------\")\n",
    "\n",
    "\n",
    "    return Aans, bans\n",
    "\n",
    "def BackSubstitution(A, b):\n",
    "    n = len(b)\n",
    "    x = np.zeros(n)\n",
    "    for k in range(n-1, -1, -1):\n",
    "        x[k] = (b[k] - np.dot(A[k, k+1:n], x[k+1:n]))/A[k, k]\n",
    "    return x\n",
    "\n",
    "def GaussianElimination(A, b):\n",
    "#     A, b = BasicGaussianElimination(A, b)\n",
    "    A, b = GaussianSwapForwardElimination(A, b)\n",
    "    x = BackSubstitution(A, b)\n",
    "    return x\n",
    "\n",
    "if __name__ == '__main__':\n",
    "    A = np.array([\n",
    "        [6, -2, 2, 4], \n",
    "        [12, -8, 6, 10], \n",
    "        [3, -13, 9, 3],\n",
    "        [-6, 4, 1, -18]\n",
    "    ], float)\n",
    "    b = np.array([16, 26, -19, -34], float)\n",
    "    x = GaussianElimination(A, b)\n",
    "    print(x)\n",
    "\n"
   ]
  }
 ],
 "metadata": {
  "kernelspec": {
   "display_name": "Python 3 (ipykernel)",
   "language": "python",
   "name": "python3"
  },
  "language_info": {
   "codemirror_mode": {
    "name": "ipython",
    "version": 3
   },
   "file_extension": ".py",
   "mimetype": "text/x-python",
   "name": "python",
   "nbconvert_exporter": "python",
   "pygments_lexer": "ipython3",
   "version": "3.9.5"
  },
  "vscode": {
   "interpreter": {
    "hash": "aee8b7b246df8f9039afb4144a1f6fd8d2ca17a180786b69acc140d282b71a49"
   }
  }
 },
 "nbformat": 4,
 "nbformat_minor": 2
}

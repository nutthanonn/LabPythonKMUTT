{
 "cells": [
  {
   "cell_type": "code",
   "execution_count": 4,
   "metadata": {},
   "outputs": [
    {
     "name": "stdout",
     "output_type": "stream",
     "text": [
      "Lower Matrix\n",
      "[[1 0 0]\n",
      " [4 1 0]\n",
      " [7 2 1]]\n",
      "----------------\n",
      "Upper Matrix\n",
      "[[ 1  2  3]\n",
      " [ 0 -3 -6]\n",
      " [ 0  0  0]]\n"
     ]
    }
   ],
   "source": [
    "import numpy as np\n",
    "\n",
    "\n",
    "def LUdecomposition(A):\n",
    "    m, n = A.shape\n",
    "    U = A.copy()\n",
    "    L = np.zeros_like(U)\n",
    "    np.fill_diagonal(L, 1)\n",
    "\n",
    "\n",
    "    for i in range(n):\n",
    "        for j in range(i+1, n):\n",
    "            L[j, i] = U[j, i]/U[i, i]\n",
    "            U[j, i:] = U[j, i:] - L[j, i]*U[i, i:]\n",
    "\n",
    "    return L, U\n",
    "\n",
    "A = np.array([[1, 2, 3], [4, 5, 6], [7, 8, 9]])\n",
    "L, U = LUdecomposition(A)\n",
    "print(f\"Lower Matrix\")\n",
    "print(L)\n",
    "print(\"----------------\")\n",
    "print(f\"Upper Matrix\")\n",
    "print(U)\n"
   ]
  }
 ],
 "metadata": {
  "kernelspec": {
   "display_name": "Python 3.9.5 64-bit",
   "language": "python",
   "name": "python3"
  },
  "language_info": {
   "codemirror_mode": {
    "name": "ipython",
    "version": 3
   },
   "file_extension": ".py",
   "mimetype": "text/x-python",
   "name": "python",
   "nbconvert_exporter": "python",
   "pygments_lexer": "ipython3",
   "version": "3.9.5"
  },
  "orig_nbformat": 4,
  "vscode": {
   "interpreter": {
    "hash": "aee8b7b246df8f9039afb4144a1f6fd8d2ca17a180786b69acc140d282b71a49"
   }
  }
 },
 "nbformat": 4,
 "nbformat_minor": 2
}

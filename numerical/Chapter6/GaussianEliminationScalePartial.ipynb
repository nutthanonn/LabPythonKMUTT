{
 "cells": [
  {
   "cell_type": "code",
   "execution_count": 6,
   "metadata": {},
   "outputs": [
    {
     "name": "stdout",
     "output_type": "stream",
     "text": [
      "[[  3. -13.   9.   3.]\n",
      " [ -6.   4.   1. -18.]\n",
      " [  6.  -2.   2.   4.]\n",
      " [ 12.  -8.   6.  10.]] [0, 1, 2, 3]\n",
      "r = [0.23076923 0.33333333 1.         1.        ], j = 2, l = [2, 1, 0, 3] -- Note l ที่ได้ ไม่ใช่ l คำตอบ ต้องเช็คกับ l ก่อนหน้าเพราะมันไม่ตรงกัน\n",
      "--------------------------------------------------------\n",
      "[[  3. -13.   9.   3.]\n",
      " [ -6.   4.   1. -18.]\n",
      " [  6.  -2.   2.   4.]\n",
      " [ 12.  -8.   6.  10.]] [0, 1, 2, 3]\n",
      "r = [0.22222222 0.33333333 0.66666667], j = 3, l = [0, 3, 2, 1] -- Note l ที่ได้ ไม่ใช่ l คำตอบ ต้องเช็คกับ l ก่อนหน้าเพราะมันไม่ตรงกัน\n",
      "--------------------------------------------------------\n",
      "[[  0. -12.   8.   1.]\n",
      " [  0.   0.   4. -13.]\n",
      " [  6.   0.   1.   3.]\n",
      " [  0.  -4.   0.  -4.]] [-27. -21.  19. -44.]\n",
      "--------------------------------------------------------\n"
     ]
    },
    {
     "data": {
      "text/plain": [
       "(array([[  0., -12.,   8.,   1.],\n",
       "        [  0.,   0.,   4., -13.],\n",
       "        [  6.,   0.,   1.,   3.],\n",
       "        [  0.,  -4.,   0.,  -4.]]),\n",
       " array([-27., -21.,  19., -44.]))"
      ]
     },
     "execution_count": 6,
     "metadata": {},
     "output_type": "execute_result"
    }
   ],
   "source": [
    "import numpy as np\n",
    "\n",
    "\n",
    "def GaussianForwardElimination(A, b):\n",
    "    m, n = A.shape\n",
    "    bn, = b.shape\n",
    "    assert n == m == bn\n",
    "    Aans = A.copy()\n",
    "    bans = b.copy()\n",
    "\n",
    "    sl = np.abs(A).max(axis=1)\n",
    "\n",
    "    def findMax(A, l, stepnum):\n",
    "        ln = len(l)\n",
    "        if stepnum >= ln-2:\n",
    "            return\n",
    "        r = np.array([abs(A[l[i]][stepnum])/sl[l[i]]\n",
    "                     for i in range(stepnum, ln)])\n",
    "\n",
    "        j = r.argmax() + stepnum\n",
    "        print(A, l)\n",
    "        l[stepnum] = l[j]\n",
    "        l[j] = stepnum\n",
    "        print(f\"r = {r}, j = {j}, l = {l} -- Note l ที่ได้ ไม่ใช่ l คำตอบ ต้องเช็คกับ l ก่อนหน้าเพราะมันไม่ตรงกัน\")\n",
    "        print(\"--------------------------------------------------------\")\n",
    "\n",
    "    for k in range(n):\n",
    "        l = list(range(n))\n",
    "        findMax(A, l, k)\n",
    "        for i in range(k+1, n):\n",
    "            Qi = Aans[l[i]][k]/Aans[l[k]][k]\n",
    "            for j in range(k, n):\n",
    "                Aans[l[i]][j] -= Qi*Aans[l[k]][j]\n",
    "            bans[l[i]] -= Qi*bans[l[k]]\n",
    "\n",
    "    print(Aans, bans)\n",
    "    print(\"--------------------------------------------------------\")\n",
    "\n",
    "    return Aans, bans\n",
    "\n",
    "\n",
    "a = np.array([[3, -13, 9, 3],\n",
    "              [-6, 4, 1, -18],\n",
    "              [6, -2, 2, 4],\n",
    "              [12, -8, 6, 10]], float)\n",
    "b = np.array([-19, -34, 16, 26], float)\n",
    "\n",
    "GaussianForwardElimination(a, b)\n"
   ]
  }
 ],
 "metadata": {
  "kernelspec": {
   "display_name": "Python 3.9.5 64-bit",
   "language": "python",
   "name": "python3"
  },
  "language_info": {
   "codemirror_mode": {
    "name": "ipython",
    "version": 3
   },
   "file_extension": ".py",
   "mimetype": "text/x-python",
   "name": "python",
   "nbconvert_exporter": "python",
   "pygments_lexer": "ipython3",
   "version": "3.9.5"
  },
  "orig_nbformat": 4,
  "vscode": {
   "interpreter": {
    "hash": "aee8b7b246df8f9039afb4144a1f6fd8d2ca17a180786b69acc140d282b71a49"
   }
  }
 },
 "nbformat": 4,
 "nbformat_minor": 2
}

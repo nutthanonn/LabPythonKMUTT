{
 "cells": [
  {
   "cell_type": "code",
   "execution_count": 24,
   "metadata": {},
   "outputs": [],
   "source": [
    "import math\n",
    "import matplotlib.pyplot as plt\n",
    "import numpy as np\n",
    "\n",
    "\n",
    "def plotGraph(f, r):\n",
    "    f2 = np.vectorize(f)\n",
    "    x_plot = np.linspace(-10, 10, 50)\n",
    "    plt.plot(x_plot, f2(x_plot))\n",
    "    plt.fill_between(x_plot, f2(x_plot))\n",
    "\n",
    "    # plt.grid()\n",
    "    plt.show()\n",
    "\n",
    "\n",
    "def trapezoid(f, a, b, iteration):\n",
    "    n = iteration\n",
    "    h = (b - a) / n\n",
    "    sums = 1/2 * (f(a) + f(b))\n",
    "    for i in range(n+1):\n",
    "        x = a + i*h\n",
    "        sums += f(x)\n",
    "        print(f\"x{i} = {x} and f(x{i}) = {f(x)}\")\n",
    "\n",
    "    sums *= h\n",
    "    return sums\n"
   ]
  },
  {
   "cell_type": "code",
   "execution_count": 25,
   "metadata": {},
   "outputs": [
    {
     "name": "stdout",
     "output_type": "stream",
     "text": [
      "x0 = -1.0 and f(x0) = 1.4142135623730951\n",
      "x1 = -0.8 and f(x1) = 1.2806248474865698\n",
      "x2 = -0.6 and f(x2) = 1.16619037896906\n",
      "x3 = -0.3999999999999999 and f(x3) = 1.0770329614269007\n",
      "x4 = -0.19999999999999996 and f(x4) = 1.019803902718557\n",
      "x5 = 0.0 and f(x5) = 1.0\n",
      "x6 = 0.20000000000000018 and f(x6) = 1.019803902718557\n",
      "x7 = 0.40000000000000013 and f(x7) = 1.077032961426901\n",
      "x8 = 0.6000000000000001 and f(x8) = 1.1661903789690602\n",
      "x9 = 0.8 and f(x9) = 1.2806248474865698\n",
      "x10 = 1.0 and f(x10) = 1.4142135623730951\n"
     ]
    },
    {
     "data": {
      "image/png": "[encoded data removed]",
      "text/plain": [
       "<Figure size 432x288 with 1 Axes>"
      ]
     },
     "metadata": {
      "needs_background": "light"
     },
     "output_type": "display_data"
    },
    {
     "name": "stdout",
     "output_type": "stream",
     "text": [
      "2.8659889736642925\n"
     ]
    }
   ],
   "source": [
    "def f(x): return math.sqrt(x**2 + 1)\n",
    "\n",
    "area = trapezoid(f, a=-1, b=1, iteration=10)\n",
    "plotGraph(f=f,r=3)\n",
    "print(area)"
   ]
  }
 ],
 "metadata": {
  "kernelspec": {
   "display_name": "Python 3.9.5 64-bit",
   "language": "python",
   "name": "python3"
  },
  "language_info": {
   "codemirror_mode": {
    "name": "ipython",
    "version": 3
   },
   "file_extension": ".py",
   "mimetype": "text/x-python",
   "name": "python",
   "nbconvert_exporter": "python",
   "pygments_lexer": "ipython3",
   "version": "3.9.5"
  },
  "orig_nbformat": 4,
  "vscode": {
   "interpreter": {
    "hash": "aee8b7b246df8f9039afb4144a1f6fd8d2ca17a180786b69acc140d282b71a49"
   }
  }
 },
 "nbformat": 4,
 "nbformat_minor": 2
}

{
 "cells": [
  {
   "cell_type": "code",
   "execution_count": 14,
   "metadata": {},
   "outputs": [
    {
     "name": "stdout",
     "output_type": "stream",
     "text": [
      "R(0, 0) = 3.0000 |  \n",
      "R(1, 0) = 3.1000 |  R(1, 1) = 3.1333 |  \n",
      "R(2, 0) = 3.1312 |  R(2, 1) = 3.1416 |  R(2, 2) = 3.1421 |  \n",
      "R(3, 0) = 3.1390 |  R(3, 1) = 3.1416 |  R(3, 2) = 3.1416 |  R(3, 3) = 3.1416 |  \n",
      "R(4, 0) = 3.1409 |  R(4, 1) = 3.1416 |  R(4, 2) = 3.1416 |  R(4, 3) = 3.1416 |  R(4, 4) = 3.1416 |  \n",
      "3.141592665277717\n"
     ]
    }
   ],
   "source": [
    "import numpy as np\n",
    "def Romberg(f, a, b, n):\n",
    "    h = b - a\n",
    "    R = [[h*(f(a) + f(b))/2]]\n",
    "    for i in range(1, n):\n",
    "        h /= 2\n",
    "        R.append([0.5*R[i-1][0] + h*sum(f(a + (2*k - 1)*h) for k in range(1, 2**(i-1) + 1))])\n",
    "        for k in range(1, i + 1):\n",
    "            R[i].append(R[i][k-1] + (R[i][k-1] - R[i-1][k-1])/(4**k - 1))\n",
    "\n",
    "    for i in range(n):\n",
    "        for k in range(i + 1):\n",
    "            print(f\"R({i}, {k}) = {R[i][k]:.4f} | \", end=' ')\n",
    "        print()\n",
    "\n",
    "    return R[n-1][n-1]\n",
    "\n",
    "\n",
    "def f(x): return 4/(1 + x**2)\n",
    "\n",
    "\n",
    "print(Romberg(f, 0, 1, 5))"
   ]
  }
 ],
 "metadata": {
  "kernelspec": {
   "display_name": "Python 3.9.5 64-bit",
   "language": "python",
   "name": "python3"
  },
  "language_info": {
   "codemirror_mode": {
    "name": "ipython",
    "version": 3
   },
   "file_extension": ".py",
   "mimetype": "text/x-python",
   "name": "python",
   "nbconvert_exporter": "python",
   "pygments_lexer": "ipython3",
   "version": "3.9.5"
  },
  "orig_nbformat": 4,
  "vscode": {
   "interpreter": {
    "hash": "aee8b7b246df8f9039afb4144a1f6fd8d2ca17a180786b69acc140d282b71a49"
   }
  }
 },
 "nbformat": 4,
 "nbformat_minor": 2
}

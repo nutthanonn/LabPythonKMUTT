{
 "cells": [
  {
   "cell_type": "code",
   "execution_count": 1,
   "metadata": {},
   "outputs": [
    {
     "name": "stdout",
     "output_type": "stream",
     "text": [
      "0.12111357397292251\n"
     ]
    }
   ],
   "source": [
    "import math\n",
    "\n",
    "\n",
    "def AdaptiveSimsonRule(f, a, b, e, level, level_max):\n",
    "    if level > level_max:\n",
    "        return 0\n",
    "    h = b - a\n",
    "    c = (a + b) / 2\n",
    "    d = (a + c) / 2\n",
    "    e = (c + b) / 2\n",
    "    s1 = h * (f(a) + 4 * f(c) + f(b)) / 6\n",
    "    s2 = h * (f(a) + 4 * f(d) + 2 * f(c) + 4 * f(e) + f(b)) / 12\n",
    "    if abs(s1 - s2) < e:\n",
    "        return s2 + (s2 - s1) / 15\n",
    "    else:\n",
    "        return AdaptiveSimsonRule(f, a, c, e / 2, level + 1, level_max) + AdaptiveSimsonRule(f, c, b, e / 2, level + 1, level_max)\n",
    "\n",
    "\n",
    "def f(x): return math.cos(2*x) / math.e**x\n",
    "\n",
    "\n",
    "print(AdaptiveSimsonRule(f, 0, 5/4*(math.pi), 1/2*(0.001), 0, 10))"
   ]
  }
 ],
 "metadata": {
  "kernelspec": {
   "display_name": "Python 3.9.5 64-bit",
   "language": "python",
   "name": "python3"
  },
  "language_info": {
   "codemirror_mode": {
    "name": "ipython",
    "version": 3
   },
   "file_extension": ".py",
   "mimetype": "text/x-python",
   "name": "python",
   "nbconvert_exporter": "python",
   "pygments_lexer": "ipython3",
   "version": "3.9.5"
  },
  "orig_nbformat": 4,
  "vscode": {
   "interpreter": {
    "hash": "aee8b7b246df8f9039afb4144a1f6fd8d2ca17a180786b69acc140d282b71a49"
   }
  }
 },
 "nbformat": 4,
 "nbformat_minor": 2
}

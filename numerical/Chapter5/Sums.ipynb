{
 "cells": [
  {
   "cell_type": "code",
   "execution_count": 33,
   "metadata": {},
   "outputs": [
    {
     "data": {
      "text/plain": [
       "(0.7146047681903216, 0.7778168240731773)"
      ]
     },
     "execution_count": 33,
     "metadata": {},
     "output_type": "execute_result"
    }
   ],
   "source": [
    "import math\n",
    "\n",
    "def Sums(a, b, f, n=10):\n",
    "    h = (b-a)/n\n",
    "    sum = 0\n",
    "    for i in range(n, 0, -1):\n",
    "        x = a+i*h\n",
    "        sum += f(x)\n",
    "    sum_lower = sum*h\n",
    "    sum_upper = sum_lower + h*(f(a) - f(b))\n",
    "\n",
    "    return sum_lower, sum_upper\n",
    "\n",
    "def f(x): return math.exp(-x**2)\n",
    "\n",
    "Sums(0,1,f)"
   ]
  }
 ],
 "metadata": {
  "kernelspec": {
   "display_name": "Python 3.9.5 64-bit",
   "language": "python",
   "name": "python3"
  },
  "language_info": {
   "codemirror_mode": {
    "name": "ipython",
    "version": 3
   },
   "file_extension": ".py",
   "mimetype": "text/x-python",
   "name": "python",
   "nbconvert_exporter": "python",
   "pygments_lexer": "ipython3",
   "version": "3.9.5"
  },
  "orig_nbformat": 4,
  "vscode": {
   "interpreter": {
    "hash": "aee8b7b246df8f9039afb4144a1f6fd8d2ca17a180786b69acc140d282b71a49"
   }
  }
 },
 "nbformat": 4,
 "nbformat_minor": 2
}

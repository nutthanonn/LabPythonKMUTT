{
 "cells": [
  {
   "cell_type": "code",
   "execution_count": 6,
   "metadata": {},
   "outputs": [],
   "source": [
    "import math\n",
    "import matplotlib.pyplot as plt\n",
    "import numpy as np\n",
    "\n",
    "\n",
    "\n",
    "def Trapezoid(f, a, b, iteration):\n",
    "    n = iteration\n",
    "    h = (b - a) / n\n",
    "    sums = 1/2 * (f(a) + f(b))\n",
    "    for i in range(1,n):\n",
    "        x = a + i*h\n",
    "        sums += f(x)\n",
    "        print(f\"x{i} = {x:.6f} and f(x{i}) = {f(x):.6f}\")\n",
    "\n",
    "    sums *= h\n",
    "    return sums\n"
   ]
  },
  {
   "cell_type": "code",
   "execution_count": 7,
   "metadata": {},
   "outputs": [
    {
     "name": "stdout",
     "output_type": "stream",
     "text": [
      "x1 = -0.800000 and f(x1) = 1.280625\n",
      "x2 = -0.600000 and f(x2) = 1.166190\n",
      "x3 = -0.400000 and f(x3) = 1.077033\n",
      "x4 = -0.200000 and f(x4) = 1.019804\n",
      "x5 = 0.000000 and f(x5) = 1.000000\n",
      "x6 = 0.200000 and f(x6) = 1.019804\n",
      "x7 = 0.400000 and f(x7) = 1.077033\n",
      "x8 = 0.600000 and f(x8) = 1.166190\n",
      "x9 = 0.800000 and f(x9) = 1.280625\n"
     ]
    },
    {
     "data": {
      "text/plain": [
       "2.3003035487150547"
      ]
     },
     "execution_count": 7,
     "metadata": {},
     "output_type": "execute_result"
    }
   ],
   "source": [
    "def f(x): return math.sqrt(x**2 + 1)\n",
    "\n",
    "\n",
    "Trapezoid(f, -1, 1, 10)"
   ]
  }
 ],
 "metadata": {
  "kernelspec": {
   "display_name": "Python 3.9.5 64-bit",
   "language": "python",
   "name": "python3"
  },
  "language_info": {
   "codemirror_mode": {
    "name": "ipython",
    "version": 3
   },
   "file_extension": ".py",
   "mimetype": "text/x-python",
   "name": "python",
   "nbconvert_exporter": "python",
   "pygments_lexer": "ipython3",
   "version": "3.9.5"
  },
  "orig_nbformat": 4,
  "vscode": {
   "interpreter": {
    "hash": "aee8b7b246df8f9039afb4144a1f6fd8d2ca17a180786b69acc140d282b71a49"
   }
  }
 },
 "nbformat": 4,
 "nbformat_minor": 2
}

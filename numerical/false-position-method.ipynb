{
 "cells": [
  {
   "cell_type": "code",
   "execution_count": 25,
   "metadata": {},
   "outputs": [],
   "source": [
    "import math\n",
    "import numpy as np\n",
    "\n",
    "def false_position(a,  b, f, iterater=20):\n",
    "    x0 = a\n",
    "    x1 = b\n",
    "    i = 1\n",
    "    while i < iterater+1:\n",
    "        x2 = x0 - (x1-x0) * f(x0)/(f(x1) - f(x0))\n",
    "        print(f'Iteration - {i}, x2 = {x2:.5f} and f(x2) = {f(x2):.4f}')\n",
    "\n",
    "        if f(x0) * f(x2) < 0:\n",
    "            x1 = x2\n",
    "        else:\n",
    "            x0 = x2\n",
    "\n",
    "        i = i + 1\n",
    "        if np.sign(f(x2)) == 0:\n",
    "            break"
   ]
  },
  {
   "cell_type": "code",
   "execution_count": 21,
   "metadata": {},
   "outputs": [
    {
     "name": "stdout",
     "output_type": "stream",
     "text": [
      "Iteration - 1, x2 = 0.4444 and f(x2) = -1.3443\n",
      "Iteration - 2, x2 = 0.5622 and f(x2) = -0.3096\n",
      "Iteration - 3, x2 = 0.5877 and f(x2) = -0.0647\n",
      "Iteration - 4, x2 = 0.5930 and f(x2) = -0.0133\n",
      "Iteration - 5, x2 = 0.5940 and f(x2) = -0.0027\n",
      "Iteration - 6, x2 = 0.5943 and f(x2) = -0.0006\n",
      "Iteration - 7, x2 = 0.5943 and f(x2) = -0.0001\n",
      "Iteration - 8, x2 = 0.5943 and f(x2) = -0.0000\n",
      "Iteration - 9, x2 = 0.5943 and f(x2) = -0.0000\n",
      "Iteration - 10, x2 = 0.5943 and f(x2) = -0.0000\n",
      "Iteration - 11, x2 = 0.5943 and f(x2) = -0.0000\n",
      "Iteration - 12, x2 = 0.5943 and f(x2) = -0.0000\n",
      "Iteration - 13, x2 = 0.5943 and f(x2) = -0.0000\n",
      "Iteration - 14, x2 = 0.5943 and f(x2) = -0.0000\n",
      "Iteration - 15, x2 = 0.5943 and f(x2) = -0.0000\n",
      "Iteration - 16, x2 = 0.5943 and f(x2) = -0.0000\n",
      "Iteration - 17, x2 = 0.5943 and f(x2) = -0.0000\n",
      "Iteration - 18, x2 = 0.5943 and f(x2) = -0.0000\n",
      "Iteration - 19, x2 = 0.5943 and f(x2) = -0.0000\n",
      "Iteration - 20, x2 = 0.5943 and f(x2) = -0.0000\n",
      "Iteration - 21, x2 = 0.5943 and f(x2) = -0.0000\n",
      "Iteration - 22, x2 = 0.5943 and f(x2) = -0.0000\n",
      "Iteration - 23, x2 = 0.5943 and f(x2) = -0.0000\n",
      "Iteration - 24, x2 = 0.5943 and f(x2) = 0.0000\n"
     ]
    }
   ],
   "source": [
    "def f(x): return x**3 + 4*x**2 + 4*x - 4\n",
    "false_position(a=0, b=1, f=f)"
   ]
  },
  {
   "cell_type": "code",
   "execution_count": 19,
   "metadata": {},
   "outputs": [
    {
     "name": "stdout",
     "output_type": "stream",
     "text": [
      "Iteration - 1, x2 = 1.05714 and f(x2) = -0.2813\n",
      "Iteration - 2, x2 = 1.07265 and f(x2) = -0.0746\n",
      "Iteration - 3, x2 = 1.07673 and f(x2) = -0.0195\n",
      "Iteration - 4, x2 = 1.07779 and f(x2) = -0.0051\n",
      "Iteration - 5, x2 = 1.07807 and f(x2) = -0.0013\n",
      "Iteration - 6, x2 = 1.07814 and f(x2) = -0.0003\n",
      "Iteration - 7, x2 = 1.07816 and f(x2) = -0.0001\n",
      "Iteration - 8, x2 = 1.07816 and f(x2) = -0.0000\n",
      "Iteration - 9, x2 = 1.07816 and f(x2) = -0.0000\n",
      "Iteration - 10, x2 = 1.07816 and f(x2) = -0.0000\n",
      "Iteration - 11, x2 = 1.07816 and f(x2) = -0.0000\n",
      "Iteration - 12, x2 = 1.07816 and f(x2) = -0.0000\n",
      "Iteration - 13, x2 = 1.07816 and f(x2) = -0.0000\n",
      "Iteration - 14, x2 = 1.07816 and f(x2) = -0.0000\n",
      "Iteration - 15, x2 = 1.07816 and f(x2) = -0.0000\n",
      "Iteration - 16, x2 = 1.07816 and f(x2) = -0.0000\n",
      "Iteration - 17, x2 = 1.07816 and f(x2) = -0.0000\n",
      "Iteration - 18, x2 = 1.07816 and f(x2) = -0.0000\n",
      "Iteration - 19, x2 = 1.07816 and f(x2) = -0.0000\n",
      "Iteration - 20, x2 = 1.07816 and f(x2) = -0.0000\n",
      "Iteration - 21, x2 = 1.07816 and f(x2) = -0.0000\n",
      "Iteration - 22, x2 = 1.07816 and f(x2) = -0.0000\n",
      "Iteration - 23, x2 = 1.07816 and f(x2) = -0.0000\n",
      "Iteration - 24, x2 = 1.07816 and f(x2) = -0.0000\n",
      "Iteration - 25, x2 = 1.07816 and f(x2) = -0.0000\n",
      "Iteration - 26, x2 = 1.07816 and f(x2) = 0.0000\n"
     ]
    }
   ],
   "source": [
    "def f(x): return 2*x**3 + 4*x**2 - 2*x - 5\n",
    "false_position(a=1,b=1.5,f=f)"
   ]
  },
  {
   "cell_type": "code",
   "execution_count": 26,
   "metadata": {},
   "outputs": [
    {
     "name": "stdout",
     "output_type": "stream",
     "text": [
      "Iteration - 1, x2 = 3.51170 and f(x2) = -3.4909\n",
      "Iteration - 2, x2 = 3.68066 and f(x2) = -0.9692\n",
      "Iteration - 3, x2 = 3.72156 and f(x2) = -0.2212\n",
      "Iteration - 4, x2 = 3.73059 and f(x2) = -0.0482\n",
      "Iteration - 5, x2 = 3.73254 and f(x2) = -0.0104\n",
      "Iteration - 6, x2 = 3.73296 and f(x2) = -0.0022\n",
      "Iteration - 7, x2 = 3.73305 and f(x2) = -0.0005\n",
      "Iteration - 8, x2 = 3.73307 and f(x2) = -0.0001\n",
      "Iteration - 9, x2 = 3.73308 and f(x2) = -0.0000\n",
      "Iteration - 10, x2 = 3.73308 and f(x2) = -0.0000\n",
      "Iteration - 11, x2 = 3.73308 and f(x2) = -0.0000\n",
      "Iteration - 12, x2 = 3.73308 and f(x2) = -0.0000\n",
      "Iteration - 13, x2 = 3.73308 and f(x2) = -0.0000\n",
      "Iteration - 14, x2 = 3.73308 and f(x2) = -0.0000\n",
      "Iteration - 15, x2 = 3.73308 and f(x2) = -0.0000\n",
      "Iteration - 16, x2 = 3.73308 and f(x2) = -0.0000\n",
      "Iteration - 17, x2 = 3.73308 and f(x2) = -0.0000\n",
      "Iteration - 18, x2 = 3.73308 and f(x2) = -0.0000\n",
      "Iteration - 19, x2 = 3.73308 and f(x2) = -0.0000\n",
      "Iteration - 20, x2 = 3.73308 and f(x2) = -0.0000\n"
     ]
    }
   ],
   "source": [
    "def f(x): return math.e**x - 3*x**2\n",
    "false_position(3,4,f=f)"
   ]
  }
 ],
 "metadata": {
  "kernelspec": {
   "display_name": "Python 3.9.5 64-bit",
   "language": "python",
   "name": "python3"
  },
  "language_info": {
   "codemirror_mode": {
    "name": "ipython",
    "version": 3
   },
   "file_extension": ".py",
   "mimetype": "text/x-python",
   "name": "python",
   "nbconvert_exporter": "python",
   "pygments_lexer": "ipython3",
   "version": "3.9.5"
  },
  "orig_nbformat": 4,
  "vscode": {
   "interpreter": {
    "hash": "aee8b7b246df8f9039afb4144a1f6fd8d2ca17a180786b69acc140d282b71a49"
   }
  }
 },
 "nbformat": 4,
 "nbformat_minor": 2
}

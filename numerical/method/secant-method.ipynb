{
 "cells": [
  {
   "cell_type": "code",
   "execution_count": 1,
   "id": "21626f65",
   "metadata": {},
   "outputs": [
    {
     "name": "stdout",
     "output_type": "stream",
     "text": [
      "0.25\n",
      "0.1864406779661017\n",
      "0.20173625617912722\n",
      "0.2016398528913041\n",
      "0.20163967572128236\n",
      "0.2016396757234047\n",
      "0.20163967572340463\n",
      "0.20163967572340466\n"
     ]
    }
   ],
   "source": [
    "import numpy as np\n",
    "\n",
    "def f(x): return x**3 - 5*x + 1\n",
    "\n",
    "def secant(x0, x1):\n",
    "    while np.sign(f(x0) - f(x1)) != 0:\n",
    "        x = x1 - (( x0 - x1) / (f(x0) - f(x1)))*f(x1)\n",
    "        print(x)\n",
    "        x0 = x1\n",
    "        x1 = x\n",
    "        \n",
    "secant(0, 1)"
   ]
  }
 ],
 "metadata": {
  "kernelspec": {
   "display_name": "Python 3.9.5 64-bit",
   "language": "python",
   "name": "python3"
  },
  "language_info": {
   "codemirror_mode": {
    "name": "ipython",
    "version": 3
   },
   "file_extension": ".py",
   "mimetype": "text/x-python",
   "name": "python",
   "nbconvert_exporter": "python",
   "pygments_lexer": "ipython3",
   "version": "3.9.5"
  },
  "vscode": {
   "interpreter": {
    "hash": "aee8b7b246df8f9039afb4144a1f6fd8d2ca17a180786b69acc140d282b71a49"
   }
  }
 },
 "nbformat": 4,
 "nbformat_minor": 5
}

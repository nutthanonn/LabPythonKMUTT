{
 "cells": [
  {
   "cell_type": "code",
   "execution_count": 6,
   "metadata": {},
   "outputs": [],
   "source": [
    "import math\n",
    "import numpy as np\n",
    "import matplotlib.pyplot as plt\n",
    "\n",
    "\n",
    "def plotGraph(f, r=0):\n",
    "    f2 = np.vectorize(f)\n",
    "    x_plot = np.linspace(-10, 10, 50)\n",
    "    plt.plot(x_plot, f2(x_plot))\n",
    "    plt.fill_between(x_plot, f2(x_plot))\n",
    "\n",
    "    # plt.grid()\n",
    "    plt.show()\n",
    "\n",
    "\n",
    "def lowerupperbound(f, a, b, interation=10):\n",
    "    n = interation\n",
    "    h = (b-a)/n\n",
    "    sums = 0\n",
    "    for i in range(n, 0, -1):\n",
    "        x = a + i*h\n",
    "        sums += f(x)\n",
    "    sum_lower = sums*h\n",
    "    sum_upper = sum_lower + h*(f(a) - f(b))\n",
    "    return sum_lower, sum_upper"
   ]
  },
  {
   "cell_type": "code",
   "execution_count": 7,
   "metadata": {},
   "outputs": [
    {
     "data": {
      "image/png": "[encoded data removed]",
      "text/plain": [
       "<Figure size 432x288 with 1 Axes>"
      ]
     },
     "metadata": {
      "needs_background": "light"
     },
     "output_type": "display_data"
    },
    {
     "name": "stdout",
     "output_type": "stream",
     "text": [
      "0.7146047681903216 0.7778168240731773\n"
     ]
    }
   ],
   "source": [
    "def f(x): return 1/math.e**(-x)**2\n",
    "lower, upper = lowerupperbound(f, a=0,b=1)\n",
    "plotGraph(f=f, r=0)\n",
    "print(lower, upper)"
   ]
  }
 ],
 "metadata": {
  "kernelspec": {
   "display_name": "Python 3.9.5 64-bit",
   "language": "python",
   "name": "python3"
  },
  "language_info": {
   "codemirror_mode": {
    "name": "ipython",
    "version": 3
   },
   "file_extension": ".py",
   "mimetype": "text/x-python",
   "name": "python",
   "nbconvert_exporter": "python",
   "pygments_lexer": "ipython3",
   "version": "3.9.5"
  },
  "orig_nbformat": 4,
  "vscode": {
   "interpreter": {
    "hash": "aee8b7b246df8f9039afb4144a1f6fd8d2ca17a180786b69acc140d282b71a49"
   }
  }
 },
 "nbformat": 4,
 "nbformat_minor": 2
}

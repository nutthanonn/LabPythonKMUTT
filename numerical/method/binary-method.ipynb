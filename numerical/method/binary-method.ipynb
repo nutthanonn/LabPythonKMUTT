{
 "cells": [
  {
   "cell_type": "code",
   "execution_count": 1,
   "metadata": {},
   "outputs": [],
   "source": [
    "import numpy as np\n",
    "import matplotlib.pyplot as plt"
   ]
  },
  {
   "cell_type": "code",
   "execution_count": 8,
   "metadata": {},
   "outputs": [
    {
     "name": "stdout",
     "output_type": "stream",
     "text": [
      "1.5320888862379562\n"
     ]
    }
   ],
   "source": [
    "# def f(M, L, m, r):  return 12*M/r * (1-(1+r/12)**(-12*m)) - L\n",
    "\n",
    "def f(x): return x**3 - 3*x + 1\n",
    "\n",
    "\n",
    "def BinaryMethod(a, b):\n",
    "    c = (a+b)/2\n",
    "\n",
    "    if np.sign(f(a)) == np.sign(f(b)):\n",
    "        return \"Error\"\n",
    "\n",
    "    i = 0\n",
    "    while np.sign(f(c)) != 0 and i < 100:\n",
    "        if np.sign(f(a)) == np.sign(f(c)):\n",
    "            a = c\n",
    "        else:\n",
    "            b = c\n",
    "        c = (a+b)/2\n",
    "        i += 1\n",
    "\n",
    "    return c\n",
    "\n",
    "\n",
    "x = BinaryMethod(-5, 20)\n",
    "print(x)\n"
   ]
  },
  {
   "cell_type": "code",
   "execution_count": 12,
   "metadata": {},
   "outputs": [
    {
     "data": {
      "image/png": "[encoded data removed]",
      "text/plain": [
       "<Figure size 432x288 with 1 Axes>"
      ]
     },
     "metadata": {
      "needs_background": "light"
     },
     "output_type": "display_data"
    }
   ],
   "source": [
    "x_plot = np.linspace(1e-10, 2, 1000)\n",
    "y_plot = f(x_plot)\n",
    "plt.plot(x_plot, y_plot, c=\"red\")\n",
    "plt.plot(x, f(x), c='blue', marker='o', fillstyle='none')\n",
    "plt.xlabel('x')\n",
    "plt.ylabel('y')\n",
    "plt.grid()\n",
    "plt.show()"
   ]
  }
 ],
 "metadata": {
  "kernelspec": {
   "display_name": "Python 3 (ipykernel)",
   "language": "python",
   "name": "python3"
  },
  "language_info": {
   "codemirror_mode": {
    "name": "ipython",
    "version": 3
   },
   "file_extension": ".py",
   "mimetype": "text/x-python",
   "name": "python",
   "nbconvert_exporter": "python",
   "pygments_lexer": "ipython3",
   "version": "3.9.5"
  },
  "vscode": {
   "interpreter": {
    "hash": "aee8b7b246df8f9039afb4144a1f6fd8d2ca17a180786b69acc140d282b71a49"
   }
  }
 },
 "nbformat": 4,
 "nbformat_minor": 2
}

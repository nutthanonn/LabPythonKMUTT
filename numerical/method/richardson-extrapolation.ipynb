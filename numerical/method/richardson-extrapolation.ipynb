{
 "cells": [
  {
   "cell_type": "code",
   "execution_count": 5,
   "id": "1d6b964a",
   "metadata": {},
   "outputs": [],
   "source": [
    "import numpy as np"
   ]
  },
  {
   "cell_type": "code",
   "execution_count": 6,
   "id": "10f9116d",
   "metadata": {},
   "outputs": [
    {
     "name": "stdout",
     "output_type": "stream",
     "text": [
      "[[102.81640625   0.           0.        ]\n",
      " [ 85.64477539  79.92089844   0.        ]\n",
      " [ 81.40748596  79.99505615  80.        ]]\n"
     ]
    }
   ],
   "source": [
    "n = 2\n",
    "d = np.zeros([n+1, n+1])\n",
    "\n",
    "def f(x): return x**5\n",
    "\n",
    "\n",
    "def RichardSon(x0, h):\n",
    "    for i in range(0, n+1):\n",
    "        d[i][0] = (f(x0+h)-f(x0-h)) / (2*h)\n",
    "        for j in range(1, i+1):\n",
    "            d[i][j] = d[i][j-1] + ((d[i][j-1] - d[i-1][j-1]) / (4**j-1))\n",
    "        h /= 2\n",
    "        \n",
    "RichardSon(2, .75)\n",
    "print(d)\n",
    "\n"
   ]
  }
 ],
 "metadata": {
  "kernelspec": {
   "display_name": "Python 3 (ipykernel)",
   "language": "python",
   "name": "python3"
  },
  "language_info": {
   "codemirror_mode": {
    "name": "ipython",
    "version": 3
   },
   "file_extension": ".py",
   "mimetype": "text/x-python",
   "name": "python",
   "nbconvert_exporter": "python",
   "pygments_lexer": "ipython3",
   "version": "3.8.9"
  }
 },
 "nbformat": 4,
 "nbformat_minor": 5
}

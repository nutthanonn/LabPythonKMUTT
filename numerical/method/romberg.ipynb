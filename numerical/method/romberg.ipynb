{
 "cells": [
  {
   "cell_type": "code",
   "execution_count": 2,
   "metadata": {},
   "outputs": [
    {
     "name": "stdout",
     "output_type": "stream",
     "text": [
      "[[3.0], [3.1, 3.1333333333333333], [3.131176470588235, 3.14156862745098, 3.1421176470588232], [3.138988494491089, 3.141592502458707, 3.1415940941258884, 3.1415857837618737], [3.140941612041389, 3.1415926512248222, 3.141592661142563, 3.141592638396796, 3.141592665277717]]\n"
     ]
    }
   ],
   "source": [
    "def Romberg(f, a, b, n):\n",
    "    h = b - a\n",
    "    R = [[h*(f(a) + f(b))/2]]\n",
    "    for i in range(1, n):\n",
    "        h /= 2\n",
    "        R.append([0.5*R[i-1][0] + h*sum(f(a + (2*k - 1)*h) for k in range(1, 2**(i-1) + 1))])\n",
    "        for k in range(1, i + 1):\n",
    "            R[i].append(R[i][k-1] + (R[i][k-1] - R[i-1][k-1])/(4**k - 1))\n",
    "    return R\n",
    "\n",
    "\n",
    "def f(x): return 4/(1 + x**2)\n",
    "\n",
    "\n",
    "print(Romberg(f, 0, 1, 5))"
   ]
  }
 ],
 "metadata": {
  "kernelspec": {
   "display_name": "Python 3.9.5 64-bit",
   "language": "python",
   "name": "python3"
  },
  "language_info": {
   "codemirror_mode": {
    "name": "ipython",
    "version": 3
   },
   "file_extension": ".py",
   "mimetype": "text/x-python",
   "name": "python",
   "nbconvert_exporter": "python",
   "pygments_lexer": "ipython3",
   "version": "3.9.5"
  },
  "orig_nbformat": 4,
  "vscode": {
   "interpreter": {
    "hash": "aee8b7b246df8f9039afb4144a1f6fd8d2ca17a180786b69acc140d282b71a49"
   }
  }
 },
 "nbformat": 4,
 "nbformat_minor": 2
}

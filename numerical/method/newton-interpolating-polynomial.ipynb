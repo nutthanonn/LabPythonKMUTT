{
 "cells": [
  {
   "cell_type": "code",
   "execution_count": 38,
   "metadata": {},
   "outputs": [
    {
     "name": "stdout",
     "output_type": "stream",
     "text": [
      "{0: 2, 1: -2.0, 2: 1.3333333333333333}\n"
     ]
    }
   ],
   "source": [
    "import numpy as np\n",
    "import matplotlib.pyplot as plt\n",
    "\n",
    "x_axis = [0, 1, 3/4]\n",
    "y_axis = [2, 0, .25]\n",
    "n = 3\n",
    "\n",
    "coef = {}\n",
    "coef[0] = y_axis[0]\n",
    "\n",
    "def f(i): return (y_axis[i] - y_axis[i-1]) / (x_axis[i] - x_axis[i-1])\n",
    "\n",
    "coef[1] = f(1)\n",
    "\n",
    "def find_coef(n):\n",
    "    for i in range(2, n):\n",
    "        temp = f(i)\n",
    "        for j in range(1, i):\n",
    "            temp -= f(j)\n",
    "        coef[i] = temp / (x_axis[i] - x_axis[0])\n",
    "\n",
    "\n",
    "def Newton(x, n):\n",
    "    res = 0\n",
    "    for i in range(n):\n",
    "        poly = 1\n",
    "        for j in range(i):\n",
    "            poly *= (x - x_axis[j])\n",
    "        res += coef[i]*poly\n",
    "\n",
    "    return res\n",
    "\n",
    "find_coef(n)\n",
    "print(coef)\n",
    "# print(Newton(0, n))"
   ]
  },
  {
   "cell_type": "code",
   "execution_count": 43,
   "metadata": {},
   "outputs": [
    {
     "data": {
      "image/png": "[encoded data removed]",
      "text/plain": [
       "<Figure size 432x288 with 1 Axes>"
      ]
     },
     "metadata": {
      "needs_background": "light"
     },
     "output_type": "display_data"
    }
   ],
   "source": [
    "x_plot = np.linspace(1, 1000, 100000)\n",
    "y_plot = Newton(x_plot, n)\n",
    "plt.plot(x_plot, y_plot)\n",
    "plt.grid()\n",
    "plt.show()"
   ]
  }
 ],
 "metadata": {
  "kernelspec": {
   "display_name": "Python 3.9.5 64-bit",
   "language": "python",
   "name": "python3"
  },
  "language_info": {
   "codemirror_mode": {
    "name": "ipython",
    "version": 3
   },
   "file_extension": ".py",
   "mimetype": "text/x-python",
   "name": "python",
   "nbconvert_exporter": "python",
   "pygments_lexer": "ipython3",
   "version": "3.9.5"
  },
  "orig_nbformat": 4,
  "vscode": {
   "interpreter": {
    "hash": "aee8b7b246df8f9039afb4144a1f6fd8d2ca17a180786b69acc140d282b71a49"
   }
  }
 },
 "nbformat": 4,
 "nbformat_minor": 2
}

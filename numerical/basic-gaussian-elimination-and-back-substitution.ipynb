{
 "cells": [
  {
   "cell_type": "code",
   "execution_count": 1,
   "metadata": {},
   "outputs": [
    {
     "name": "stdout",
     "output_type": "stream",
     "text": [
      "True\n"
     ]
    }
   ],
   "source": [
    "\"\"\"\n",
    "64090500431\n",
    "\"\"\"\n",
    "\n",
    "\n",
    "import numpy as np\n",
    "\n",
    "\n",
    "# A,b are numpy array of size (n,n) and n for equation Ax=b\n",
    "def GaussianForwardElimination(A, b):\n",
    "    m, n = A.shape\n",
    "    bn, = b.shape\n",
    "    assert n == m == bn\n",
    "    Aans = A.copy()\n",
    "    bans = b.copy()\n",
    "\n",
    "    # Your Code Here\n",
    "    for k in range(n):\n",
    "        for i in range(k+1, n):\n",
    "            factor = Aans[i, k]/Aans[k, k]\n",
    "            for j in range(k, n):\n",
    "                Aans[i, j] = Aans[i, j] - factor*Aans[k, j]\n",
    "            bans[i] = bans[i] - factor*bans[k]\n",
    "\n",
    "    # End Your code\n",
    "\n",
    "    return Aans, bans\n",
    "\n",
    "\n",
    "def GaussianBacksubstitution(A, b):\n",
    "    m, n = A.shape\n",
    "    bn, = b.shape\n",
    "    assert n == m == bn\n",
    "    x = np.zeros(n, dtype=np.float64)\n",
    "\n",
    "    # Your Code Here\n",
    "    for i in range(n-1, -1, -1):\n",
    "        sums = b[i]\n",
    "        for j in range(i+1, n):\n",
    "            sums = sums - A[i, j]*x[j]\n",
    "        x[i] = sums/A[i, i]\n",
    "\n",
    "    # End Your code\n",
    "\n",
    "    return x\n",
    "\n",
    "\n",
    "def Problem1(A, b):\n",
    "    Aelem, belem = GaussianForwardElimination(A, b)\n",
    "    x = GaussianBacksubstitution(Aelem, belem)\n",
    "    return x\n",
    "\n",
    "\n",
    "def test_1():\n",
    "    n = 4\n",
    "    Aa = [[6, -2, 2, 4], [12, -8, 6, 10], [3, -13, 9, 3], [-6, 4, 1, -18]]\n",
    "    bb = [16, 26, -19, -34]\n",
    "    A = np.array(Aa, dtype=np.float64)\n",
    "    b = np.array(bb, dtype=np.float64)\n",
    "    x = Problem1(A, b)\n",
    "    return (np.absolute(x - np.array([3.,  1., -2.,  1.])) < 1e-5).all()\n",
    "\n",
    "\n",
    "print(test_1())"
   ]
  }
 ],
 "metadata": {
  "kernelspec": {
   "display_name": "Python 3.9.5 64-bit",
   "language": "python",
   "name": "python3"
  },
  "language_info": {
   "codemirror_mode": {
    "name": "ipython",
    "version": 3
   },
   "file_extension": ".py",
   "mimetype": "text/x-python",
   "name": "python",
   "nbconvert_exporter": "python",
   "pygments_lexer": "ipython3",
   "version": "3.9.5"
  },
  "orig_nbformat": 4,
  "vscode": {
   "interpreter": {
    "hash": "aee8b7b246df8f9039afb4144a1f6fd8d2ca17a180786b69acc140d282b71a49"
   }
  }
 },
 "nbformat": 4,
 "nbformat_minor": 2
}

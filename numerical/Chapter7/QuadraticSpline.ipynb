{
 "cells": [
  {
   "cell_type": "code",
   "execution_count": 2,
   "metadata": {},
   "outputs": [
    {
     "name": "stdout",
     "output_type": "stream",
     "text": [
      "range = -1 <= -1 <= 0 use eq-0\n",
      "range = -1 <= 0 <= 0 use eq-0\n",
      "range = 0.5 <= 1 <= 1 use eq-2\n",
      "range = 1 <= 2 <= 2 use eq-3\n",
      "--------------------------------------------------------------------------------\n",
      "x0 => -1.0*(x - -1)^2 + 0*(x - -1) + 2)\n",
      "x1 => 0.0*(x - 0)^2 + -2.0*(x - 0) + 1)\n",
      "x2 => 8.0*(x - 0.5)^2 + -2.0*(x - 0.5) + 0)\n",
      "x3 => -5.0*(x - 1)^2 + 6.0*(x - 1) + 1)\n",
      "x4 => 12.0*(x - 2)^2 + -4.0*(x - 2) + 2)\n"
     ]
    }
   ],
   "source": [
    "import numpy as np\n",
    "import matplotlib.pyplot as plt\n",
    "\n",
    "def QuadraticSpline(x, xi, yi):\n",
    "    # Quadratic Spline.\n",
    "    nx = len(xi)\n",
    "    ny = len(yi)\n",
    "    assert nx == ny\n",
    "    assert sorted(xi) == list(xi)\n",
    "\n",
    "    z = []\n",
    "    q = []\n",
    "\n",
    "    z.append(0)\n",
    "\n",
    "    for i in range(1, nx):\n",
    "        z.append(-z[i-1] + 2 * (yi[i] - yi[i-1]) / (xi[i] - xi[i-1]))\n",
    "\n",
    "    assert len(z) == nx\n",
    "\n",
    "    eq_list = []\n",
    "    ans = 0\n",
    "\n",
    "    for i in range(nx - 1):\n",
    "        a = 0.5 * (z[i+1] - z[i]) / (xi[i+1] - xi[i])\n",
    "        b = -2 * a * xi[i] + z[i]\n",
    "        c = a*xi[i]**2 - z[i] * xi[i] + yi[i]\n",
    "        eq_list.append((a, b, c))\n",
    "\n",
    "    for i in range(nx - 1):\n",
    "        if xi[i] <= x <= xi[i+1]:\n",
    "            print(f\"range = {xi[i]} <= {x} <= {xi[i+1]} use eq-{i}\")\n",
    "            ans = eq_list[i][0] * (x-xi[i])**2 + z[i]*(x-xi[i]) + yi[i]\n",
    "            break\n",
    "    return ans\n",
    "\n",
    "\n",
    "def getEqualtion(xi, yi):\n",
    "        # Quadratic Spline.\n",
    "    nx = len(xi)\n",
    "    ny = len(yi)\n",
    "    assert nx == ny\n",
    "    assert sorted(xi) == list(xi)\n",
    "\n",
    "    z = []\n",
    "    q = []\n",
    "\n",
    "    z.append(0)\n",
    "\n",
    "    for i in range(1, nx):\n",
    "        z.append(-z[i-1] + 2 * (yi[i] - yi[i-1]) / (xi[i] - xi[i-1]))\n",
    "\n",
    "    assert len(z) == nx\n",
    "\n",
    "    eq_list = []\n",
    "    ans = 0\n",
    "\n",
    "    for i in range(nx - 1):\n",
    "        a = 0.5 * (z[i+1] - z[i]) / (xi[i+1] - xi[i])\n",
    "        b = -2 * a * xi[i] + z[i]\n",
    "        c = a*xi[i]**2 - z[i] * xi[i] + yi[i]\n",
    "        eq_list.append((a, b, c))\n",
    "    print(\"--------------------------------------------------------------------------------\")\n",
    "    for i in range(nx-1): \n",
    "        print(f\"x{i} => {eq_list[i][0]}*(x - {xi[i]})^2 + {z[i]}*(x - {xi[i]}) + {yi[i]})\")\n",
    "\n",
    "\n",
    "def main():\n",
    "    xi = [-1,0,1/2,1,2,5/2]\n",
    "    yi = [2,1,0,1,2,3]\n",
    "\n",
    "    x = list(range(-4, 5))\n",
    "    y = [QuadraticSpline(i, xi, yi) for i in x]\n",
    "    getEqualtion(xi, yi)\n",
    "\n",
    "    # QuadraticSpline(x, xi, yi) to find the value of y at x\n",
    "\n",
    "    # for i in range(len(y)):\n",
    "    #     print(f\"x = {x[i]:.2f}, y = {y[i]:.2f}\")\n",
    "\n",
    "\n",
    "main()"
   ]
  }
 ],
 "metadata": {
  "kernelspec": {
   "display_name": "Python 3.9.5 64-bit",
   "language": "python",
   "name": "python3"
  },
  "language_info": {
   "codemirror_mode": {
    "name": "ipython",
    "version": 3
   },
   "file_extension": ".py",
   "mimetype": "text/x-python",
   "name": "python",
   "nbconvert_exporter": "python",
   "pygments_lexer": "ipython3",
   "version": "3.9.5"
  },
  "orig_nbformat": 4,
  "vscode": {
   "interpreter": {
    "hash": "aee8b7b246df8f9039afb4144a1f6fd8d2ca17a180786b69acc140d282b71a49"
   }
  }
 },
 "nbformat": 4,
 "nbformat_minor": 2
}

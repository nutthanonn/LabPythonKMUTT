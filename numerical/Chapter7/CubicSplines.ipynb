{
 "cells": [
  {
   "cell_type": "code",
   "execution_count": 1,
   "metadata": {},
   "outputs": [
    {
     "name": "stdout",
     "output_type": "stream",
     "text": [
      "6.263157894736842\n"
     ]
    }
   ],
   "source": [
    "import numpy as np\n",
    "\n",
    "def Jacobi(A, b, kmax=20):\n",
    "    n, = b.shape\n",
    "    x = np.zeros_like(b)\n",
    "    for _ in range(kmax):\n",
    "        for i in range(n):\n",
    "            x[i] = (b[i] - sum(A[i, j]*x[j]\n",
    "                    for j in range(n) if j != i))/A[i, i]\n",
    "    return x\n",
    "\n",
    "\n",
    "def CubicSplines(x, xi, yi):\n",
    "    ti = np.array(xi)\n",
    "    h = np.diff(ti)\n",
    "    b = np.diff(yi)/h\n",
    "\n",
    "    u = [2*(h[i]+h[i+1]) for i in range(len(h)-1)]\n",
    "    v = [6*(b[i+1]-b[i]) for i in range(len(b)-1)]\n",
    "\n",
    "    eql = np.zeros((len(xi), len(xi)))\n",
    "\n",
    "    sol = [0, *v, 0]\n",
    "\n",
    "    eql[0][0] = 1\n",
    "    eql[-1][-1] = 1\n",
    "\n",
    "    for i in range(1, len(xi)-1):\n",
    "        eql[i][i-1] = h[i-1]\n",
    "        eql[i][i] = u[i-1]\n",
    "        eql[i][i+1] = h[i]\n",
    "\n",
    "    zi = Jacobi(np.array(eql), np.array(sol))\n",
    "\n",
    "    for i in range(len(xi)-1):\n",
    "        if xi[i] <= x <= xi[i+1]:\n",
    "            ans = zi[i+1]/(6*h[i])*(x-xi[i])**3 - zi[i]/(6*h[i]) * (x-xi[i+1])**3 + \\\n",
    "                (yi[i+1]/h[i] - zi[i+1]*h[i]/6)*(x-xi[i]) - \\\n",
    "                (yi[i]/h[i] - zi[i]*h[i]/6)*(x-xi[i+1])\n",
    "            break\n",
    "\n",
    "    return ans\n",
    "\n",
    "\n",
    "    \n",
    "\n",
    "if __name__ == \"__main__\":\n",
    "    xi = [0, 1, 2, 3, 4, 5]\n",
    "    yi = [0, 1, 4, 9, 16, 25]\n",
    "    x = 2.5\n",
    "    print(CubicSplines(x, xi, yi))\n"
   ]
  }
 ],
 "metadata": {
  "kernelspec": {
   "display_name": "Python 3.9.5 64-bit",
   "language": "python",
   "name": "python3"
  },
  "language_info": {
   "codemirror_mode": {
    "name": "ipython",
    "version": 3
   },
   "file_extension": ".py",
   "mimetype": "text/x-python",
   "name": "python",
   "nbconvert_exporter": "python",
   "pygments_lexer": "ipython3",
   "version": "3.9.5"
  },
  "orig_nbformat": 4,
  "vscode": {
   "interpreter": {
    "hash": "aee8b7b246df8f9039afb4144a1f6fd8d2ca17a180786b69acc140d282b71a49"
   }
  }
 },
 "nbformat": 4,
 "nbformat_minor": 2
}
